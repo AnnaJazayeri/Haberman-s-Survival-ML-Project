{
 "cells": [
  {
   "cell_type": "markdown",
   "id": "b23146cf",
   "metadata": {},
   "source": [
    "# Machine Learning Project\n",
    "# Haberman"
   ]
  },
  {
   "cell_type": "markdown",
   "id": "ed3219a3",
   "metadata": {},
   "source": [
    "## importing relavant libraries"
   ]
  },
  {
   "cell_type": "code",
   "execution_count": 1,
   "id": "172875c9",
   "metadata": {},
   "outputs": [],
   "source": [
    "import pandas as pd\n",
    "import numpy as np\n",
    "import matplotlib.pyplot as plt\n",
    "from sklearn.preprocessing import StandardScaler\n"
   ]
  },
  {
   "cell_type": "markdown",
   "id": "c0e98f10",
   "metadata": {},
   "source": [
    "Attribute Information:\n",
    "   1. Age of patient at time of operation (numerical)\n",
    "   2. Patient's year of operation (year - 1900, numerical)\n",
    "   3. Number of positive axillary nodes detected (numerical)\n",
    "   4. Survival status (class attribute)\n",
    "         * 1 = the patient survived 5 years or longer\n",
    "         * 2 = the patient died within 5 year"
   ]
  },
  {
   "cell_type": "markdown",
   "id": "a7a716eb",
   "metadata": {},
   "source": [
    "## Loading dataset"
   ]
  },
  {
   "cell_type": "code",
   "execution_count": 2,
   "id": "091419ee",
   "metadata": {},
   "outputs": [
    {
     "data": {
      "text/html": [
       "<div>\n",
       "<style scoped>\n",
       "    .dataframe tbody tr th:only-of-type {\n",
       "        vertical-align: middle;\n",
       "    }\n",
       "\n",
       "    .dataframe tbody tr th {\n",
       "        vertical-align: top;\n",
       "    }\n",
       "\n",
       "    .dataframe thead th {\n",
       "        text-align: right;\n",
       "    }\n",
       "</style>\n",
       "<table border=\"1\" class=\"dataframe\">\n",
       "  <thead>\n",
       "    <tr style=\"text-align: right;\">\n",
       "      <th></th>\n",
       "      <th>age_patient_operate_time</th>\n",
       "      <th>year_operate_time</th>\n",
       "      <th>axillary_node_num</th>\n",
       "      <th>survive_after5years</th>\n",
       "    </tr>\n",
       "  </thead>\n",
       "  <tbody>\n",
       "    <tr>\n",
       "      <th>0</th>\n",
       "      <td>30</td>\n",
       "      <td>64</td>\n",
       "      <td>1</td>\n",
       "      <td>1</td>\n",
       "    </tr>\n",
       "    <tr>\n",
       "      <th>1</th>\n",
       "      <td>30</td>\n",
       "      <td>62</td>\n",
       "      <td>3</td>\n",
       "      <td>1</td>\n",
       "    </tr>\n",
       "    <tr>\n",
       "      <th>2</th>\n",
       "      <td>30</td>\n",
       "      <td>65</td>\n",
       "      <td>0</td>\n",
       "      <td>1</td>\n",
       "    </tr>\n",
       "    <tr>\n",
       "      <th>3</th>\n",
       "      <td>31</td>\n",
       "      <td>59</td>\n",
       "      <td>2</td>\n",
       "      <td>1</td>\n",
       "    </tr>\n",
       "    <tr>\n",
       "      <th>4</th>\n",
       "      <td>31</td>\n",
       "      <td>65</td>\n",
       "      <td>4</td>\n",
       "      <td>1</td>\n",
       "    </tr>\n",
       "    <tr>\n",
       "      <th>...</th>\n",
       "      <td>...</td>\n",
       "      <td>...</td>\n",
       "      <td>...</td>\n",
       "      <td>...</td>\n",
       "    </tr>\n",
       "    <tr>\n",
       "      <th>301</th>\n",
       "      <td>75</td>\n",
       "      <td>62</td>\n",
       "      <td>1</td>\n",
       "      <td>1</td>\n",
       "    </tr>\n",
       "    <tr>\n",
       "      <th>302</th>\n",
       "      <td>76</td>\n",
       "      <td>67</td>\n",
       "      <td>0</td>\n",
       "      <td>1</td>\n",
       "    </tr>\n",
       "    <tr>\n",
       "      <th>303</th>\n",
       "      <td>77</td>\n",
       "      <td>65</td>\n",
       "      <td>3</td>\n",
       "      <td>1</td>\n",
       "    </tr>\n",
       "    <tr>\n",
       "      <th>304</th>\n",
       "      <td>78</td>\n",
       "      <td>65</td>\n",
       "      <td>1</td>\n",
       "      <td>2</td>\n",
       "    </tr>\n",
       "    <tr>\n",
       "      <th>305</th>\n",
       "      <td>83</td>\n",
       "      <td>58</td>\n",
       "      <td>2</td>\n",
       "      <td>2</td>\n",
       "    </tr>\n",
       "  </tbody>\n",
       "</table>\n",
       "<p>306 rows × 4 columns</p>\n",
       "</div>"
      ],
      "text/plain": [
       "     age_patient_operate_time  year_operate_time  axillary_node_num  \\\n",
       "0                          30                 64                  1   \n",
       "1                          30                 62                  3   \n",
       "2                          30                 65                  0   \n",
       "3                          31                 59                  2   \n",
       "4                          31                 65                  4   \n",
       "..                        ...                ...                ...   \n",
       "301                        75                 62                  1   \n",
       "302                        76                 67                  0   \n",
       "303                        77                 65                  3   \n",
       "304                        78                 65                  1   \n",
       "305                        83                 58                  2   \n",
       "\n",
       "     survive_after5years  \n",
       "0                      1  \n",
       "1                      1  \n",
       "2                      1  \n",
       "3                      1  \n",
       "4                      1  \n",
       "..                   ...  \n",
       "301                    1  \n",
       "302                    1  \n",
       "303                    1  \n",
       "304                    2  \n",
       "305                    2  \n",
       "\n",
       "[306 rows x 4 columns]"
      ]
     },
     "execution_count": 2,
     "metadata": {},
     "output_type": "execute_result"
    }
   ],
   "source": [
    "import pandas as pd\n",
    "\n",
    "dataset = \"haberman.csv\"\n",
    "nam = ['age_patient_operate_time', 'year_operate_time', 'axillary_node_num', 'survive_after5years']\n",
    "myData = pd.read_csv(dataset, names=nam)\n",
    "myData"
   ]
  },
  {
   "cell_type": "markdown",
   "id": "7cf265dd",
   "metadata": {},
   "source": [
    "Here's the typical order of operations in a machine learning project:\n",
    "\n",
    "1. Data Collection: Gather our dataset.\n",
    "\n",
    "2. Data Preprocessing:\n",
    "    * Handle missing values (if any).\n",
    "    * Encoding categorical variables (if applicable).\n",
    "    * Feature engineering (if needed).\n",
    "    * Scaling numerical features.<br><br>\n",
    "\n",
    "3. Data Splitting: Split the data into training and testing sets.\n",
    "\n",
    "4. Model Building: Choose a machine learning model and train it on the training data.\n",
    "\n",
    "5. Model Evaluation: Evaluate the model's performance on the testing data.\n",
    "\n",
    "6. Model Tuning: Adjust hyperparameters and make other model improvements based on evaluation results.\n",
    "\n",
    "7. Final Model: Train the final model on the entire dataset (including training and testing data).\n",
    "\n",
    "8. Inference: Use the final model for predictions on new, unseen data.\n",
    "\n",
    "Source link: https://www.linkedin.com/pulse/unlock-power-machine-learning-data-science-ai-inbuiltdata-1f/"
   ]
  },
  {
   "cell_type": "markdown",
   "id": "ca3a11ac",
   "metadata": {},
   "source": [
    "## Explore the Dataset"
   ]
  },
  {
   "cell_type": "code",
   "execution_count": 3,
   "id": "15051787",
   "metadata": {},
   "outputs": [
    {
     "name": "stdout",
     "output_type": "stream",
     "text": [
      "<class 'pandas.core.frame.DataFrame'>\n",
      "RangeIndex: 306 entries, 0 to 305\n",
      "Data columns (total 4 columns):\n",
      " #   Column                    Non-Null Count  Dtype\n",
      "---  ------                    --------------  -----\n",
      " 0   age_patient_operate_time  306 non-null    int64\n",
      " 1   year_operate_time         306 non-null    int64\n",
      " 2   axillary_node_num         306 non-null    int64\n",
      " 3   survive_after5years       306 non-null    int64\n",
      "dtypes: int64(4)\n",
      "memory usage: 9.7 KB\n"
     ]
    }
   ],
   "source": [
    "myData.info()"
   ]
  },
  {
   "cell_type": "code",
   "execution_count": 4,
   "id": "190de00f",
   "metadata": {},
   "outputs": [
    {
     "data": {
      "text/html": [
       "<div>\n",
       "<style scoped>\n",
       "    .dataframe tbody tr th:only-of-type {\n",
       "        vertical-align: middle;\n",
       "    }\n",
       "\n",
       "    .dataframe tbody tr th {\n",
       "        vertical-align: top;\n",
       "    }\n",
       "\n",
       "    .dataframe thead th {\n",
       "        text-align: right;\n",
       "    }\n",
       "</style>\n",
       "<table border=\"1\" class=\"dataframe\">\n",
       "  <thead>\n",
       "    <tr style=\"text-align: right;\">\n",
       "      <th></th>\n",
       "      <th>age_patient_operate_time</th>\n",
       "      <th>year_operate_time</th>\n",
       "      <th>axillary_node_num</th>\n",
       "      <th>survive_after5years</th>\n",
       "    </tr>\n",
       "  </thead>\n",
       "  <tbody>\n",
       "    <tr>\n",
       "      <th>count</th>\n",
       "      <td>306.000000</td>\n",
       "      <td>306.000000</td>\n",
       "      <td>306.000000</td>\n",
       "      <td>306.000000</td>\n",
       "    </tr>\n",
       "    <tr>\n",
       "      <th>mean</th>\n",
       "      <td>52.457516</td>\n",
       "      <td>62.852941</td>\n",
       "      <td>4.026144</td>\n",
       "      <td>1.264706</td>\n",
       "    </tr>\n",
       "    <tr>\n",
       "      <th>std</th>\n",
       "      <td>10.803452</td>\n",
       "      <td>3.249405</td>\n",
       "      <td>7.189654</td>\n",
       "      <td>0.441899</td>\n",
       "    </tr>\n",
       "    <tr>\n",
       "      <th>min</th>\n",
       "      <td>30.000000</td>\n",
       "      <td>58.000000</td>\n",
       "      <td>0.000000</td>\n",
       "      <td>1.000000</td>\n",
       "    </tr>\n",
       "    <tr>\n",
       "      <th>25%</th>\n",
       "      <td>44.000000</td>\n",
       "      <td>60.000000</td>\n",
       "      <td>0.000000</td>\n",
       "      <td>1.000000</td>\n",
       "    </tr>\n",
       "    <tr>\n",
       "      <th>50%</th>\n",
       "      <td>52.000000</td>\n",
       "      <td>63.000000</td>\n",
       "      <td>1.000000</td>\n",
       "      <td>1.000000</td>\n",
       "    </tr>\n",
       "    <tr>\n",
       "      <th>75%</th>\n",
       "      <td>60.750000</td>\n",
       "      <td>65.750000</td>\n",
       "      <td>4.000000</td>\n",
       "      <td>2.000000</td>\n",
       "    </tr>\n",
       "    <tr>\n",
       "      <th>max</th>\n",
       "      <td>83.000000</td>\n",
       "      <td>69.000000</td>\n",
       "      <td>52.000000</td>\n",
       "      <td>2.000000</td>\n",
       "    </tr>\n",
       "  </tbody>\n",
       "</table>\n",
       "</div>"
      ],
      "text/plain": [
       "       age_patient_operate_time  year_operate_time  axillary_node_num  \\\n",
       "count                306.000000         306.000000         306.000000   \n",
       "mean                  52.457516          62.852941           4.026144   \n",
       "std                   10.803452           3.249405           7.189654   \n",
       "min                   30.000000          58.000000           0.000000   \n",
       "25%                   44.000000          60.000000           0.000000   \n",
       "50%                   52.000000          63.000000           1.000000   \n",
       "75%                   60.750000          65.750000           4.000000   \n",
       "max                   83.000000          69.000000          52.000000   \n",
       "\n",
       "       survive_after5years  \n",
       "count           306.000000  \n",
       "mean              1.264706  \n",
       "std               0.441899  \n",
       "min               1.000000  \n",
       "25%               1.000000  \n",
       "50%               1.000000  \n",
       "75%               2.000000  \n",
       "max               2.000000  "
      ]
     },
     "execution_count": 4,
     "metadata": {},
     "output_type": "execute_result"
    }
   ],
   "source": [
    "myData.describe()"
   ]
  },
  {
   "cell_type": "markdown",
   "id": "05c0b08e",
   "metadata": {},
   "source": [
    "## Data Preprocessing:\n",
    "Since there are no missing values in our dataset and all the features are numerical, there's no need to handle missing values or encode categorical features. However, there are a few optional preprocessing steps we can consider:\n",
    "\n",
    "## Missing values"
   ]
  },
  {
   "cell_type": "code",
   "execution_count": 5,
   "id": "116f4b77",
   "metadata": {},
   "outputs": [
    {
     "data": {
      "text/plain": [
       "age_patient_operate_time    0\n",
       "year_operate_time           0\n",
       "axillary_node_num           0\n",
       "survive_after5years         0\n",
       "dtype: int64"
      ]
     },
     "execution_count": 5,
     "metadata": {},
     "output_type": "execute_result"
    }
   ],
   "source": [
    "import numpy as np\n",
    "\n",
    "myData.isna().sum()"
   ]
  },
  {
   "cell_type": "markdown",
   "id": "f4083620",
   "metadata": {},
   "source": [
    "## Visualization "
   ]
  },
  {
   "cell_type": "markdown",
   "id": "25cdcdba",
   "metadata": {},
   "source": [
    "### Pie chart to show the percentage of survival "
   ]
  },
  {
   "cell_type": "code",
   "execution_count": 6,
   "id": "d6e4f6ca",
   "metadata": {},
   "outputs": [
    {
     "data": {
      "image/png": "[encoded data removed]",
      "text/plain": [
       "<Figure size 640x480 with 1 Axes>"
      ]
     },
     "metadata": {},
     "output_type": "display_data"
    }
   ],
   "source": [
    "import matplotlib.pyplot as plt\n",
    "\n",
    "sur = myData[\"survive_after5years\"].value_counts()\n",
    "\n",
    "plt.pie(x=sur, labels=[\"Survived after 5 years\", \"Died within 5 years\"], colors=[\"#FFC0CB\", \"#98FB98\"], autopct=\"%1.0f%%\")\n",
    "plt.title(\"Survival information\")\n",
    "\n",
    "plt.show()"
   ]
  },
  {
   "cell_type": "code",
   "execution_count": 7,
   "id": "819e2c9b",
   "metadata": {},
   "outputs": [
    {
     "data": {
      "text/plain": [
       "survive_after5years\n",
       "1    225\n",
       "2     81\n",
       "Name: count, dtype: int64"
      ]
     },
     "execution_count": 7,
     "metadata": {},
     "output_type": "execute_result"
    }
   ],
   "source": [
    "# Count the number of data points for each class.\n",
    "# This dataset is imbalanced, with significantly different data point counts for each class.\n",
    "# Strategies for handling imbalanced data will be explored later.\n",
    "myData.survive_after5years.value_counts()"
   ]
  },
  {
   "cell_type": "markdown",
   "id": "2951235c",
   "metadata": {},
   "source": [
    "### Scatter plot to visualize the age distribution\n"
   ]
  },
  {
   "cell_type": "code",
   "execution_count": 8,
   "id": "e51b7092",
   "metadata": {},
   "outputs": [
    {
     "name": "stdout",
     "output_type": "stream",
     "text": [
      "Youngest patient was 30 old.\n",
      "Oldest patient was 83 old.\n",
      "Mean of the ages in patients was 52.5 years.\n"
     ]
    },
    {
     "data": {
      "image/png": "[encoded data removed]",
      "text/plain": [
       "<Figure size 640x480 with 1 Axes>"
      ]
     },
     "metadata": {},
     "output_type": "display_data"
    }
   ],
   "source": [
    "age = myData[\"age_patient_operate_time\"].value_counts().sort_index()\n",
    "\n",
    "# Extract ages (x-axis) and counts (y-axis)\n",
    "ages = age.index\n",
    "counts = age.values\n",
    "\n",
    "# Create a scatter plot\n",
    "plt.scatter(ages, counts, color=\"red\")  # You can adjust the color as needed\n",
    "plt.title(\"Age of Patients in the Time of Operation\")\n",
    "plt.xlabel(\"Age\")\n",
    "plt.ylabel(\"Count\")\n",
    "\n",
    "\n",
    "print(f\"Youngest patient was {myData['age_patient_operate_time'].min()} old.\")\n",
    "print(f\"Oldest patient was {myData['age_patient_operate_time'].max()} old.\")\n",
    "print(f\"Mean of the ages in patients was {myData['age_patient_operate_time'].mean():.1f} years.\")\n",
    "\n",
    "plt.show()"
   ]
  },
  {
   "cell_type": "code",
   "execution_count": null,
   "id": "6da6db05",
   "metadata": {},
   "outputs": [],
   "source": []
  },
  {
   "cell_type": "markdown",
   "id": "b3c810eb",
   "metadata": {},
   "source": [
    "## Feature Scaling:\n",
    "Depending on the machine learning algorithm we plan to use, it might be beneficial to scale our features. Feature scaling can help algorithms converge faster and perform better. Common scaling methods are Min-Max scaling (scaling features to a range of [0, 1]) and standardization (scaling features to have a mean of 0 and a standard deviation of 1). I use the StandardScaler from Scikit-Learn for this:"
   ]
  },
  {
   "cell_type": "markdown",
   "id": "702d4f62",
   "metadata": {},
   "source": [
    "## Feature Selection:\n",
    "\n",
    "Feature scaling is an important thing we do before teaching computers to learn from data. It's like making sure all the numbers in our data are on the same scale. This helps our computer learn without favoring big numbers over small ones. Feature scaling is extra important when our data has numbers that cover a wide range. Let's see why feature scaling is so important and when we should use it.\n",
    "\n",
    "1. Equalizing the Impact of Features:\n",
    "\n",
    "Some computer programs that learn from data use measurements that involve distances, like how far apart things are. But when these measurements involve numbers that are very different, it can cause problems. For example, if one number is between 0 and 1, and another number is between 0 and 1000, the big number can have too much control over the program. Feature scaling is a way to fix this issue and make sure all the numbers have a fair say in the program's decisions.\n",
    "\n",
    "2. Faster Convergence:\n",
    "\n",
    "Methods that use gradients, such as gradient descent, work better when you adjust the size of your features. When you don't do this adjustment, the process of finding the best solution might be slower and not very steady.\n",
    "\n",
    "3. Improved Model Performance:\n",
    "\n",
    "Some methods, such as linear regression and K-Means clustering, can be affected by how big or small the numbers in the data are. To make these methods work better and give more accurate predictions, you can adjust the size of the numbers in the data.\n",
    "\n",
    "4. Interpretability:\n",
    "\n",
    "Scaling features makes it easier to understand how different features affect a model and which ones are more important. When features have very different sizes, figuring out their importance can be tricky.\n",
    "\n",
    "When should we use feature scaling:\n",
    "\n",
    "* If we're using algorithms that depend on measuring distances or gradient descent for improving the model (like K-Nearest Neighbors, Support Vector Machines, K-Means clustering, Principal Component Analysis).\n",
    "* When our data has features with different types of measurements or units.\n",
    "* When we want to improve how well our machine learning model works and how quickly it learns.\n",
    "* If we're using techniques that punish large coefficient values (like L1 and L2 regularization).\n",
    "\n",
    "\n",
    "Common Feature Scaling Methods:\n",
    "\n",
    "Several common methods for feature scaling include:\n",
    "\n",
    "1. Standardization (Z-score normalization):\n",
    "\n",
    "Rescales the data to have a mean of 0 and a standard deviation of 1. It is advantageous when the data approximates a normal distribution.\n",
    "\n",
    "2. Min-Max Scaling:\n",
    "\n",
    "Transforms data to a specified range, often [0, 1] or [-1, 1], while preserving the original data distribution.\n",
    "\n",
    "3. Robust Scaling:\n",
    "\n",
    "This method adjusts data by using the middle value and the range between the middle 50% of the numbers. It helps data not be affected too much by unusual or extreme numbers.\n",
    "When we decide how to adjust our data, think about the kind of data we have and the needs of the machine learning we're using. To make the best choice, see how adjusting the data affects our model's performance for our specific dataset and problem.\n",
    "\n",
    "For example imagine we have a list of people's salaries in a company. Some people earn really high salaries, like the CEO, while others earn average salaries. Now, if we want to find the average salary for the company, we could just add up all the salaries and divide by the number of people. But, this method can be heavily influenced by the CEO's extremely high salary. So, our average salary might not really represent what most people in the company earn. To avoid this problem, we can use a method that looks at the middle values, like the median (which is the middle number when all salaries are lined up from lowest to highest) and the range between the salaries in the middle 50% (this means the range between the 25th percentile and the 75th percentile). These middle values are less affected by extreme salaries, making our calculation more robust or resistant to these outliers.\n",
    "\n",
    "Now, when we're deciding how to calculate averages or use this method in machine learning, we should consider the type of data we have (like salary data in this example) and the needs of our specific machine learning task. We want to choose the method that makes the most sense for our situation. To do that, we should see how the method we choose affects the performance of our machine learning model on our specific data and problem.\n",
    "\n",
    "Source link: https://towardsdatascience.com/what-is-feature-scaling-why-is-it-important-in-machine-learning-2854ae877048\n"
   ]
  },
  {
   "cell_type": "code",
   "execution_count": 9,
   "id": "fd221f27",
   "metadata": {},
   "outputs": [],
   "source": [
    "# Feature Scaling\n",
    "from sklearn.preprocessing import StandardScaler\n",
    "\n",
    "scaler = StandardScaler()\n",
    "\n",
    "numerical_features = ['age_patient_operate_time', 'year_operate_time', 'axillary_node_num']\n",
    "myData[numerical_features] = scaler.fit_transform(myData[numerical_features])\n"
   ]
  },
  {
   "cell_type": "markdown",
   "id": "9e1f6678",
   "metadata": {},
   "source": [
    "### Encoding Categorical Variables\n",
    "In our dataset, it appears that 'survive_after5years' is a categorical variable with two classes (1 and 2). We must convert it to a binary variable (e.g., 0 for survival status 1 and 1 for survival status 2) if we're performing binary classification."
   ]
  },
  {
   "cell_type": "code",
   "execution_count": 10,
   "id": "c99545d0",
   "metadata": {},
   "outputs": [],
   "source": [
    "myData['survive_after5years'] = myData['survive_after5years'].map({1: 0, 2: 1})"
   ]
  },
  {
   "cell_type": "markdown",
   "id": "9ed39e4b",
   "metadata": {},
   "source": [
    "# Random Forest Classifier \n",
    "from sklearn.ensemble import RandomForestClassifier\n",
    "\n",
    "# Create a Random Forest model\n",
    "rf_model = RandomForestClassifier()\n",
    "\n",
    "# Train the model on the training data\n",
    "rf_model.fit(X_train, y_train)\n",
    "\n",
    "# Get feature importances\n",
    "feature_importances = rf_model.feature_importances_\n",
    "\n",
    "# Create a DataFrame to display feature importance scores\n",
    "feature_importance_df = pd.DataFrame({'Feature': X.columns, 'Importance': feature_importances})\n",
    "\n",
    "# Sort features by importance in descending order\n",
    "feature_importance_df = feature_importance_df.sort_values(by='Importance', ascending=False)\n",
    "\n",
    "# Display the sorted feature importance\n",
    "print(feature_importance_df)"
   ]
  },
  {
   "cell_type": "code",
   "execution_count": null,
   "id": "d65173e0",
   "metadata": {},
   "outputs": [],
   "source": []
  },
  {
   "cell_type": "code",
   "execution_count": null,
   "id": "dbd19ffc",
   "metadata": {},
   "outputs": [],
   "source": []
  },
  {
   "cell_type": "code",
   "execution_count": null,
   "id": "fe1e2741",
   "metadata": {},
   "outputs": [],
   "source": []
  },
  {
   "cell_type": "code",
   "execution_count": null,
   "id": "cf75361d",
   "metadata": {},
   "outputs": [],
   "source": []
  }
 ],
 "metadata": {
  "kernelspec": {
   "display_name": "Python 3 (ipykernel)",
   "language": "python",
   "name": "python3"
  },
  "language_info": {
   "codemirror_mode": {
    "name": "ipython",
    "version": 3
   },
   "file_extension": ".py",
   "mimetype": "text/x-python",
   "name": "python",
   "nbconvert_exporter": "python",
   "pygments_lexer": "ipython3",
   "version": "3.11.5"
  }
 },
 "nbformat": 4,
 "nbformat_minor": 5
}
